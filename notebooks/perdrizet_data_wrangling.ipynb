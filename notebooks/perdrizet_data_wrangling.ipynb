{
 "cells": [
  {
   "cell_type": "markdown",
   "metadata": {},
   "source": [
    "# Data wrangling"
   ]
  },
  {
   "cell_type": "code",
   "execution_count": 1,
   "metadata": {},
   "outputs": [],
   "source": [
    "import glob\n",
    "import shutil\n",
    "from pathlib import Path\n",
    "\n",
    "import kagglehub"
   ]
  },
  {
   "cell_type": "markdown",
   "metadata": {},
   "source": [
    "# 1. Data download"
   ]
  },
  {
   "cell_type": "code",
   "execution_count": 2,
   "metadata": {},
   "outputs": [
    {
     "name": "stdout",
     "output_type": "stream",
     "text": [
      "Path to dataset files: /home/vscode/.cache/kagglehub/datasets/paultimothymooney/breast-histopathology-images/versions/1\n"
     ]
    }
   ],
   "source": [
    "# Download latest version\n",
    "path = kagglehub.dataset_download(\"paultimothymooney/breast-histopathology-images\")\n",
    "\n",
    "print(\"Path to dataset files:\", path)"
   ]
  },
  {
   "cell_type": "markdown",
   "metadata": {},
   "source": [
    "# 2. Data re-structuring\n",
    "\n",
    "Right now, the data exists in a set of numbered directories, one for each patient. In each patient directory there are two sub-directories `0` and `1` containing IDC negative and IDC positive images. We need to collect all of the IDC negative images and IDC positive images into their own directories."
   ]
  },
  {
   "cell_type": "code",
   "execution_count": 3,
   "metadata": {},
   "outputs": [],
   "source": [
    "# Get a list of patient directories\n",
    "patients=glob.glob(f'{path}/*')\n",
    "\n",
    "# Set up target directories for file copy\n",
    "idc_negative_directory='../data/idc_negative/'\n",
    "idc_positive_directory='../data/idc_positive/'\n",
    "\n",
    "Path(idc_negative_directory).mkdir(parents=True, exist_ok=True)\n",
    "Path(idc_positive_directory).mkdir(parents=True, exist_ok=True)\n",
    "\n",
    "# Loop on the patient directories and copy the '0' images to\n",
    "# the idc_negative directory and the '1' images to the\n",
    "# idc_positive directory\n",
    "for patient in patients:\n",
    "\n",
    "    # Copy the idc negative images from this patient\n",
    "    idc_negative_images=glob.glob(f'{patient}/0/*.png')\n",
    "\n",
    "    for image in idc_negative_images:\n",
    "        shutil.copy(image, idc_negative_directory)\n",
    "\n",
    "    # Copy the idc positive images from this patient\n",
    "    idc_positive_images=glob.glob(f'{patient}/1/*.png')\n",
    "\n",
    "    for image in idc_positive_images:\n",
    "        shutil.copy(image, idc_positive_directory)"
   ]
  }
 ],
 "metadata": {
  "kernelspec": {
   "display_name": "Python 3",
   "language": "python",
   "name": "python3"
  },
  "language_info": {
   "codemirror_mode": {
    "name": "ipython",
    "version": 3
   },
   "file_extension": ".py",
   "mimetype": "text/x-python",
   "name": "python",
   "nbconvert_exporter": "python",
   "pygments_lexer": "ipython3",
   "version": "3.10.12"
  }
 },
 "nbformat": 4,
 "nbformat_minor": 2
}
