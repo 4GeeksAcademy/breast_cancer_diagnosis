{
 "cells": [
  {
   "cell_type": "markdown",
   "metadata": {},
   "source": [
    "# Data wrangling"
   ]
  },
  {
   "cell_type": "code",
   "execution_count": 1,
   "metadata": {},
   "outputs": [
    {
     "name": "stderr",
     "output_type": "stream",
     "text": [
      "/home/vscode/.local/lib/python3.10/site-packages/tqdm/auto.py:21: TqdmWarning: IProgress not found. Please update jupyter and ipywidgets. See https://ipywidgets.readthedocs.io/en/stable/user_install.html\n",
      "  from .autonotebook import tqdm as notebook_tqdm\n"
     ]
    }
   ],
   "source": [
    "# Standard library imports\n",
    "import glob\n",
    "import shutil\n",
    "from pathlib import Path\n",
    "\n",
    "# PyPI imports\n",
    "import kagglehub"
   ]
  },
  {
   "cell_type": "markdown",
   "metadata": {},
   "source": [
    "# 1. Data download"
   ]
  },
  {
   "cell_type": "code",
   "execution_count": 2,
   "metadata": {},
   "outputs": [
    {
     "name": "stdout",
     "output_type": "stream",
     "text": [
      "Downloading from https://www.kaggle.com/api/v1/datasets/download/paultimothymooney/breast-histopathology-images?dataset_version_number=1...\n"
     ]
    },
    {
     "name": "stderr",
     "output_type": "stream",
     "text": [
      "100%|██████████| 3.10G/3.10G [00:55<00:00, 59.9MB/s]\n"
     ]
    },
    {
     "name": "stdout",
     "output_type": "stream",
     "text": [
      "Extracting files...\n",
      "Path to dataset files: /home/vscode/.cache/kagglehub/datasets/paultimothymooney/breast-histopathology-images/versions/1\n"
     ]
    }
   ],
   "source": [
    "%%time\n",
    "\n",
    "# Download latest version\n",
    "path=kagglehub.dataset_download('paultimothymooney/breast-histopathology-images')\n",
    "\n",
    "print(f'Path to dataset files: {path}\\n')"
   ]
  },
  {
   "cell_type": "markdown",
   "metadata": {},
   "source": [
    "# 2. Data re-structuring\n",
    "\n",
    "Right now, the data exists in a set of numbered directories, one for each patient. In each patient directory there are two sub-directories `0` and `1` containing IDC negative and IDC positive images. We need to collect all of the IDC negative images and IDC positive images into their own directories. Let's write a function to do all of that."
   ]
  },
  {
   "cell_type": "code",
   "execution_count": 3,
   "metadata": {},
   "outputs": [],
   "source": [
    "def restructure_data(path: str) -> bool:\n",
    "    '''Takes string path to data directory from KaggleHub download call, moves all IDC \n",
    "    negative and positive images into corresponding directories in project data folder.'''\n",
    "\n",
    "    # Get a list of patient directories\n",
    "    patients=glob.glob(f'{path}/*')\n",
    "\n",
    "    # Set up target directories for file copy\n",
    "    idc_negative_directory='../data/images/idc_negative/'\n",
    "    idc_positive_directory='../data/images/idc_positive/'\n",
    "\n",
    "    Path(idc_negative_directory).mkdir(parents=True, exist_ok=True)\n",
    "    Path(idc_positive_directory).mkdir(parents=True, exist_ok=True)\n",
    "\n",
    "    # Loop on the patient directories and copy the '0' images to the idc_negative directory\n",
    "    # and the '1' images to the idc_positive directory\n",
    "    for patient in patients:\n",
    "\n",
    "        # Copy the idc negative images from this patient\n",
    "        idc_negative_images=glob.glob(f'{patient}/0/*.png')\n",
    "\n",
    "        for image in idc_negative_images:\n",
    "            shutil.copy(image, idc_negative_directory)\n",
    "\n",
    "        # Copy the idc positive images from this patient\n",
    "        idc_positive_images=glob.glob(f'{patient}/1/*.png')\n",
    "\n",
    "        for image in idc_positive_images:\n",
    "            shutil.copy(image, idc_positive_directory)"
   ]
  },
  {
   "cell_type": "code",
   "execution_count": 4,
   "metadata": {},
   "outputs": [
    {
     "name": "stdout",
     "output_type": "stream",
     "text": [
      "CPU times: user 15.7 s, sys: 54.1 s, total: 1min 9s\n",
      "Wall time: 3min 20s\n"
     ]
    }
   ],
   "source": [
    "%%time\n",
    "\n",
    "restructure_data(path)"
   ]
  },
  {
   "cell_type": "markdown",
   "metadata": {},
   "source": [
    "Done!"
   ]
  },
  {
   "cell_type": "code",
   "execution_count": null,
   "metadata": {},
   "outputs": [],
   "source": []
  }
 ],
 "metadata": {
  "kernelspec": {
   "display_name": "Python 3",
   "language": "python",
   "name": "python3"
  },
  "language_info": {
   "codemirror_mode": {
    "name": "ipython",
    "version": 3
   },
   "file_extension": ".py",
   "mimetype": "text/x-python",
   "name": "python",
   "nbconvert_exporter": "python",
   "pygments_lexer": "ipython3",
   "version": "3.10.12"
  }
 },
 "nbformat": 4,
 "nbformat_minor": 2
}
